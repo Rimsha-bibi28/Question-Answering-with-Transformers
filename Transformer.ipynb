{
 "cells": [
  {
   "cell_type": "code",
   "execution_count": null,
   "id": "a3844ed1-02d1-42f4-b64f-5888fdd4cf49",
   "metadata": {},
   "outputs": [],
   "source": [
    "from transformers import AutoTokenizer, AutoModelForQuestionAnswering, pipeline\n",
    "\n",
    "model_name = \"distilbert-base-uncased-distilled-squad\"\n",
    "\n",
    "tokenizer = AutoTokenizer.from_pretrained(model_name)\n",
    "model = AutoModelForQuestionAnswering.from_pretrained(model_name)\n",
    "\n",
    "qa_pipeline = pipeline(\"question-answering\", model=model, tokenizer=tokenizer)\n",
    "\n",
    "question = \"Where is the Eiffel Tower located?\"\n",
    "context = \"The Eiffel Tower is located in Paris.\"\n",
    "\n",
    "result = qa_pipeline(question=question, context=context)\n",
    "print(result)"
   ]
  },
  {
   "cell_type": "code",
   "execution_count": 5,
   "id": "97c5daaa-2185-41a6-961b-7028b1eaa0a9",
   "metadata": {},
   "outputs": [
    {
     "name": "stderr",
     "output_type": "stream",
     "text": [
      "Device set to use cpu\n",
      "Evaluating: 100%|█████████████████████████████████████████████████████████| 10570/10570 [3:13:20<00:00,  1.10s/it]\n"
     ]
    },
    {
     "name": "stdout",
     "output_type": "stream",
     "text": [
      "\n",
      "🧪 Evaluation Results:\n",
      "✅ Exact Match (EM): 78.94\n",
      "✅ F1 Score: 86.56\n"
     ]
    }
   ],
   "source": [
    "from transformers import pipeline\n",
    "from datasets import load_dataset\n",
    "from tqdm import tqdm\n",
    "import evaluate\n",
    "\n",
    "# Load SQuAD v1.1 validation set\n",
    "dataset = load_dataset(\"squad\", split=\"validation\")\n",
    "\n",
    "# Load the QA model\n",
    "qa_pipeline = pipeline(\"question-answering\", model=\"distilbert-base-uncased-distilled-squad\")\n",
    "\n",
    "# Evaluation metrics\n",
    "squad_metric = evaluate.load(\"squad\")\n",
    "\n",
    "# Predict and collect results\n",
    "predictions = []\n",
    "references = []\n",
    "\n",
    "for item in tqdm(dataset, desc=\"Evaluating\"):\n",
    "    context = item[\"context\"]\n",
    "    question = item[\"question\"]\n",
    "    answers = item[\"answers\"][\"text\"]\n",
    "\n",
    "    try:\n",
    "        output = qa_pipeline(question=question, context=context)\n",
    "        predicted_answer = output[\"answer\"]\n",
    "    except:\n",
    "        predicted_answer = \"\"\n",
    "\n",
    "    predictions.append({\"id\": item[\"id\"], \"prediction_text\": predicted_answer})\n",
    "    references.append({\"id\": item[\"id\"], \"answers\": {\"answer_start\": item[\"answers\"][\"answer_start\"],\n",
    "                                                     \"text\": answers}})\n",
    "\n",
    "# Compute metrics\n",
    "results = squad_metric.compute(predictions=predictions, references=references)\n",
    "\n",
    "print(\"\\n🧪 Evaluation Results:\")\n",
    "print(f\"✅ Exact Match (EM): {results['exact_match']:.2f}\")\n",
    "print(f\"✅ F1 Score: {results['f1']:.2f}\")\n"
   ]
  },
  {
   "cell_type": "code",
   "execution_count": 11,
   "id": "3245a194-e510-4bfc-b306-cb7af02c9df9",
   "metadata": {},
   "outputs": [
    {
     "name": "stdout",
     "output_type": "stream",
     "text": [
      "✅ Predictions saved to 'squad_predictions.csv'\n"
     ]
    }
   ],
   "source": [
    "import pandas as pd\n",
    "\n",
    "# Prepare data to save\n",
    "preds_data = []\n",
    "for i in range(len(dataset)):\n",
    "    question = dataset[i]['question']\n",
    "    context = dataset[i]['context']\n",
    "    predicted_answer = predictions[i]['prediction_text']\n",
    "    ground_truth_answers = dataset[i]['answers']['text']\n",
    "\n",
    "    preds_data.append({\n",
    "        \"question\": question,\n",
    "        \"context\": context,\n",
    "        \"predicted_answer\": predicted_answer,\n",
    "        \"ground_truth_answer\": ground_truth_answers[0] if ground_truth_answers else \"\"\n",
    "    })\n",
    "\n",
    "# Save to CSV\n",
    "df_preds = pd.DataFrame(preds_data)\n",
    "df_preds.to_csv(\"squad_predictions.csv\", index=False)\n",
    "\n",
    "print(\"✅ Predictions saved to 'squad_predictions.csv'\")\n"
   ]
  },
  {
   "cell_type": "code",
   "execution_count": 17,
   "id": "ecd4375f-1388-44ca-9d44-4730ab635fdf",
   "metadata": {},
   "outputs": [
    {
     "name": "stderr",
     "output_type": "stream",
     "text": [
      "Device set to use cpu\n"
     ]
    },
    {
     "name": "stdin",
     "output_type": "stream",
     "text": [
      "\n",
      "📜 Enter context (or type 'exit' to quit):\n",
      " ARE YOU GOOD\n",
      "\n",
      " Enter your question:\n",
      " WHAT ARE YOU\n"
     ]
    },
    {
     "name": "stdout",
     "output_type": "stream",
     "text": [
      "\n",
      " Answer: YOU GOOD\n",
      "\n"
     ]
    },
    {
     "name": "stdin",
     "output_type": "stream",
     "text": [
      "\n",
      "📜 Enter context (or type 'exit' to quit):\n",
      " MY NAME IS RIMSHA\n",
      "\n",
      " Enter your question:\n",
      " WHAT IS MY NAME\n"
     ]
    },
    {
     "name": "stdout",
     "output_type": "stream",
     "text": [
      "\n",
      " Answer: RIMSHA\n",
      "\n"
     ]
    },
    {
     "name": "stdin",
     "output_type": "stream",
     "text": [
      "\n",
      "📜 Enter context (or type 'exit' to quit):\n",
      " THERE ARE LOTS OF BEES IN ROOM. \n",
      "\n",
      " Enter your question:\n",
      " WHAT ARE IN THE ROOM?\n"
     ]
    },
    {
     "name": "stdout",
     "output_type": "stream",
     "text": [
      "\n",
      " Answer: BEES\n",
      "\n"
     ]
    },
    {
     "name": "stdin",
     "output_type": "stream",
     "text": [
      "\n",
      "📜 Enter context (or type 'exit' to quit):\n",
      " exit\n"
     ]
    }
   ],
   "source": [
    "from transformers import pipeline\n",
    "\n",
    "qa_pipeline = pipeline(\"question-answering\", model=\"distilbert-base-uncased-distilled-squad\")\n",
    "\n",
    "while True:\n",
    "    context = input(\"\\n📜 Enter context (or type 'exit' to quit):\\n\")\n",
    "    if context.lower() == 'exit':\n",
    "        break\n",
    "    question = input(\"\\n Enter your question:\\n\")\n",
    "\n",
    "    result = qa_pipeline(question=question, context=context)\n",
    "    print(f\"\\n Answer: {result['answer']}\\n\")\n"
   ]
  },
  {
   "cell_type": "code",
   "execution_count": null,
   "id": "893df654-9515-44d1-9e12-6e469003509c",
   "metadata": {},
   "outputs": [],
   "source": []
  }
 ],
 "metadata": {
  "kernelspec": {
   "display_name": "Python 3 (ipykernel)",
   "language": "python",
   "name": "python3"
  },
  "language_info": {
   "codemirror_mode": {
    "name": "ipython",
    "version": 3
   },
   "file_extension": ".py",
   "mimetype": "text/x-python",
   "name": "python",
   "nbconvert_exporter": "python",
   "pygments_lexer": "ipython3",
   "version": "3.12.3"
  }
 },
 "nbformat": 4,
 "nbformat_minor": 5
}
